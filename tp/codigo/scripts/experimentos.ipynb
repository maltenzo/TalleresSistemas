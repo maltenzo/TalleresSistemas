{
 "cells": [
  {
   "cell_type": "markdown",
   "metadata": {},
   "source": [
    "# Correr experimentos\n",
    "En este archivo está el código para correr los experimentos y escribir los resultados en archivos CSV.\n",
    "> Los archivos se guardan en la carpeta _resultados_."
   ]
  },
  {
   "cell_type": "code",
   "execution_count": 1,
   "metadata": {},
   "outputs": [],
   "source": [
    "import math, subprocess\n",
    "import pandas as pd\n",
    "import numpy as np\n",
    "import shutil as sh\n",
    "from IPython.display import display, clear_output\n",
    "from os import listdir"
   ]
  },
  {
   "cell_type": "markdown",
   "metadata": {},
   "source": [
    "La siguiente función sirve para correr el código sobre una instancia ejecutando un método en particular.\n"
   ]
  },
  {
   "cell_type": "code",
   "execution_count": 2,
   "metadata": {},
   "outputs": [],
   "source": [
    "def correr_experimento(experimento, secuencial, cantThreadsLectura, cantThreadsMaximo, filePaths):\n",
    "\n",
    "    # Crear proceso para ejecutar el codigo\n",
    "    args = [\"../build/Experimentos\", experimento, secuencial, str(cantThreadsLectura), str(cantThreadsMaximo)]\n",
    "\n",
    "    for path in filePaths:\n",
    "        args.append(path)\n",
    "        \n",
    "    process = subprocess.Popen(args, stderr=subprocess.PIPE,stdout=subprocess.PIPE, stdin=subprocess.PIPE, universal_newlines = True)\n",
    "\n",
    "    # Poner la instancia en la entrada estandar y leer salida de STDERR con el tiempo de ejecución.\n",
    "    clog = process.communicate()[1] # communicate() devuelve una tupla (stdout, stderr)\n",
    "    \n",
    "    #clog = str.splitlines(clog)\n",
    "\n",
    "    #print(clog)\n",
    "\n",
    "    tiempo_de_ejecucion = clog\n",
    "\n",
    "    # Correr experimento.\n",
    "    exit_code = process.wait()\n",
    "\n",
    "    # Verificar que el proceso no fallo.\n",
    "    if exit_code != 0: raise(F\"Hubo un error en la experimentacion.\")\n",
    "    \n",
    "    return float(tiempo_de_ejecucion);"
   ]
  },
  {
   "cell_type": "markdown",
   "metadata": {},
   "source": [
    "## Creamos una instancia propia\n",
    "Esta instancia, pensada para los experimentos de máximo, posee una gran cantidad de elementos en cada bucket, de este modo buscamos que el costo de explorarlos para cada thread sea mayor al costo de crear el thread y así obtener mediciones en las que sea tangible la efectividad de la concurrencia por sobre secuencialidad."
   ]
  },
  {
   "cell_type": "code",
   "execution_count": 9,
   "metadata": {},
   "outputs": [],
   "source": [
    "abecedario = \"abcdefghijklmnopqrstuvwxyz\"\n",
    "for i in range(200, 2001, 200):\n",
    "    file = open(F\"../data/miDiccionario{i}\", \"w\")\n",
    "    for letra in abecedario:\n",
    "        s = \"\"\n",
    "        for j in range(0, i):\n",
    "            s+=letra\n",
    "            file.write(s+\"\\n\")\n",
    "    file.write(\"z\"+\"\\n\")    \n",
    "    file.close()"
   ]
  },
  {
   "cell_type": "markdown",
   "metadata": {},
   "source": [
    "## Experimento máximo secuecial"
   ]
  },
  {
   "cell_type": "code",
   "execution_count": 11,
   "metadata": {},
   "outputs": [
    {
     "output_type": "display_data",
     "data": {
      "text/plain": "'Experimento: 10'"
     },
     "metadata": {}
    }
   ],
   "source": [
    "columnas = [\"n\", \"experimento\", \"es_secuencial\", \"cantThreadsLectura\", \"cantThreadsMaximo\", \"tiempo\"];\n",
    "filas = [];\n",
    "\n",
    "n = 1;\n",
    "experimento = \"maximo\";\n",
    "es_secuencial = \"Si\";\n",
    "cantThreadsLectura = 1;\n",
    "cantThreadsMaximo = 1;\n",
    "tiempos = []\n",
    "\n",
    "for i in range(1, 11):\n",
    "    for t in range(0, 5):\n",
    "        filePaths = [F\"../data/miDiccionario{i*200}\"]\n",
    "        analisis = correr_experimento(experimento, es_secuencial, cantThreadsLectura, cantThreadsMaximo, filePaths);\n",
    "        tiempos.append(analisis);\n",
    "    clear_output(wait=True)\n",
    "    display('Experimento: ' + str(n))\n",
    "    tiempo = np.median(tiempos);\n",
    "    filas.append([n, experimento, es_secuencial, cantThreadsLectura, cantThreadsMaximo, tiempo]);\n",
    "    n += 1;\n",
    "\n",
    "\n",
    "df_resultado = pd.DataFrame(filas, columns=columnas);\n",
    "df_resultado.to_csv(\"../resultados/resultado_maximo_secuencial.csv\", index=False, header=True);\n",
    "\n",
    "\n"
   ]
  },
  {
   "cell_type": "markdown",
   "metadata": {},
   "source": [
    "## Experimento máximo concurrente"
   ]
  },
  {
   "cell_type": "code",
   "execution_count": 3,
   "metadata": {},
   "outputs": [
    {
     "output_type": "display_data",
     "data": {
      "text/plain": "'Experimento: 26.10'"
     },
     "metadata": {}
    }
   ],
   "source": [
    "columnas = [\"n\", \"experimento\", \"es_secuencial\", \"cantThreadsLectura\", \"cantThreadsMaximo\", \"tiempo\"];\n",
    "filas = [];\n",
    "\n",
    "experimento = \"maximo\";\n",
    "es_secuencial = \"No\";\n",
    "cantThreadsLectura = 1;\n",
    "tiempos = []\n",
    "for cantThreadsMaximo in range(1,27):\n",
    "    for i in range(1, 11):\n",
    "        n = i;\n",
    "        for t in range(0, 5):\n",
    "            filePaths = [F\"../data/miDiccionario{i*200}\"]\n",
    "            analisis = correr_experimento(experimento, es_secuencial, cantThreadsLectura, cantThreadsMaximo, filePaths);\n",
    "            tiempos.append(analisis);\n",
    "        clear_output(wait=True)\n",
    "        display('Experimento: ' + str(cantThreadsMaximo) + '.' + str(n))\n",
    "        tiempo = np.median(tiempos);\n",
    "        filas.append([n, experimento, es_secuencial, cantThreadsLectura, cantThreadsMaximo, tiempo]);\n",
    "\n",
    "\n",
    "df_resultado = pd.DataFrame(filas, columns=columnas);\n",
    "df_resultado.to_csv(\"../resultados/resultado_maximo_concurrente.csv\", index=False, header=True);"
   ]
  },
  {
   "cell_type": "markdown",
   "metadata": {},
   "source": [
    "## Experimento cargar archivos secuencial"
   ]
  },
  {
   "cell_type": "code",
   "execution_count": 18,
   "metadata": {},
   "outputs": [
    {
     "output_type": "display_data",
     "data": {
      "text/plain": "'Experimento: 1'"
     },
     "metadata": {}
    }
   ],
   "source": [
    "columnas = [\"n\", \"experimento\", \"es_secuencial\", \"cantThreadsLectura\", \"cantThreadsMaximo\", \"tiempo\"];\n",
    "filas = [];\n",
    "\n",
    "n = 1;\n",
    "experimento = \"cargarArchivos\";\n",
    "es_secuencial = \"Si\";\n",
    "cantThreadsLectura = 1;\n",
    "cantThreadsMaximo = 1;\n",
    "tiempos = []\n",
    "filePaths = [\"../data/corpus\"]\n",
    "for f in range(1,30):\n",
    "    sh.copyfile(\"../data/corpus\",F\"../data/corpus{f}\");\n",
    "    filePaths.append(F\"../data/corpus{f}\")\n",
    "\n",
    "for t in range(0, 5):\n",
    "    analisis = correr_experimento(experimento, es_secuencial, cantThreadsLectura, cantThreadsMaximo, filePaths);\n",
    "    tiempos.append(analisis);\n",
    "clear_output(wait=True)\n",
    "display('Experimento: ' + str(n))\n",
    "tiempo = np.median(tiempos);\n",
    "filas.append([n, experimento, es_secuencial, cantThreadsLectura, cantThreadsMaximo, tiempo]);\n",
    "n += 1;\n",
    "\n",
    "for f in range(1,30):\n",
    "    os.remove(F\"../data/corpus{f}\")\n",
    "\n",
    "df_resultado = pd.DataFrame(filas, columns=columnas);\n",
    "df_resultado.to_csv(\"../resultados/resultado_cargarArchivo_secuencial.csv\", index=False, header=True);"
   ]
  },
  {
   "cell_type": "markdown",
   "metadata": {},
   "source": [
    "## Experimento cargar archivos concurrente"
   ]
  },
  {
   "cell_type": "code",
   "execution_count": 19,
   "metadata": {},
   "outputs": [
    {
     "output_type": "display_data",
     "data": {
      "text/plain": "'Experimento: 30'"
     },
     "metadata": {}
    }
   ],
   "source": [
    "columnas = [\"n\", \"experimento\", \"es_secuencial\", \"cantThreadsLectura\", \"cantThreadsMaximo\", \"tiempo\"];\n",
    "filas = [];\n",
    "\n",
    "n = 1;\n",
    "experimento = \"cargarArchivos\";\n",
    "es_secuencial = \"No\";\n",
    "cantThreadsMaximo = 1;\n",
    "tiempos = []\n",
    "filePaths = [\"../data/corpus\"]\n",
    "for f in range(1,30):\n",
    "    sh.copyfile(\"../data/corpus\",F\"../data/corpus{f}\");\n",
    "    filePaths.append(F\"../data/corpus{f}\")\n",
    "\n",
    "for cantThreadsLectura in range(1,31):\n",
    "    for t in range(0, 5):\n",
    "        analisis = correr_experimento(experimento, es_secuencial, cantThreadsLectura, cantThreadsMaximo, filePaths);\n",
    "        tiempos.append(analisis);\n",
    "    clear_output(wait=True)\n",
    "    display('Experimento: ' + str(n))\n",
    "    tiempo = np.median(tiempos);\n",
    "    filas.append([n, experimento, es_secuencial, cantThreadsLectura, cantThreadsMaximo, tiempo]);\n",
    "    n += 1;\n",
    "\n",
    "for f in range(1,30):\n",
    "    os.remove(F\"../data/corpus{f}\")\n",
    "\n",
    "df_resultado = pd.DataFrame(filas, columns=columnas);\n",
    "df_resultado.to_csv(\"../resultados/resultado_cargarArchivo_concurrente.csv\", index=False, header=True);"
   ]
  },
  {
   "cell_type": "code",
   "execution_count": null,
   "metadata": {},
   "outputs": [],
   "source": []
  }
 ],
 "metadata": {
  "kernelspec": {
   "display_name": "Python 3",
   "language": "python",
   "name": "python3"
  },
  "language_info": {
   "codemirror_mode": {
    "name": "ipython",
    "version": 3
   },
   "file_extension": ".py",
   "mimetype": "text/x-python",
   "name": "python",
   "nbconvert_exporter": "python",
   "pygments_lexer": "ipython3",
   "version": "3.8.5"
  },
  "metadata": {
   "interpreter": {
    "hash": "31f2aee4e71d21fbe5cf8b01ff0e069b9275f58929596ceb00d14d90e3e16cd6"
   }
  }
 },
 "nbformat": 4,
 "nbformat_minor": 4
}