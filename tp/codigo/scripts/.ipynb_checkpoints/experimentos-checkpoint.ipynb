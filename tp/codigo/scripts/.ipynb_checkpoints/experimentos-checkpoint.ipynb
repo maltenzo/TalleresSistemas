{
 "cells": [
  {
   "cell_type": "markdown",
   "metadata": {},
   "source": [
    "# Correr experimentos\n",
    "En este archivo está el código para correr los experimentos y escribir los resultados en archivos CSV.\n",
    "> Los archivos se guardan en la carpeta _resultados_."
   ]
  },
  {
   "cell_type": "code",
   "execution_count": 8,
   "metadata": {},
   "outputs": [],
   "source": [
    "import math, subprocess\n",
    "import pandas as pd\n",
    "import numpy as np\n",
    "from IPython.display import display, clear_output\n",
    "from os import listdir"
   ]
  },
  {
   "cell_type": "markdown",
   "metadata": {},
   "source": [
    "La siguiente función sirve para correr el código sobre una instancia ejecutando un método en particular.\n"
   ]
  },
  {
   "cell_type": "code",
   "execution_count": 9,
   "metadata": {},
   "outputs": [],
   "source": [
    "def correr_experimento(experimento, secuencial, cantThreadsLectura, cantThreadsMaximo, filePaths):\n",
    "\n",
    "    # Crear proceso para ejecutar el codigo\n",
    "    args = [\"../build/Experimentos\", experimento, secuencial, str(cantThreadsLectura), str(cantThreadsMaximo)]\n",
    "\n",
    "    for path in filePaths:\n",
    "        args.append(path)\n",
    "        \n",
    "    process = subprocess.Popen(args, stderr=subprocess.PIPE,stdout=subprocess.PIPE, stdin=subprocess.PIPE, universal_newlines = True)\n",
    "\n",
    "    # Poner la instancia en la entrada estandar y leer salida de STDERR con el tiempo de ejecución.\n",
    "    clog = process.communicate()[1] # communicate() devuelve una tupla (stdout, stderr)\n",
    "    \n",
    "    #clog = str.splitlines(clog)\n",
    "\n",
    "    #print(clog)\n",
    "\n",
    "    tiempo_de_ejecucion = clog\n",
    "\n",
    "    # Correr experimento.\n",
    "    exit_code = process.wait()\n",
    "\n",
    "    # Verificar que el proceso no fallo.\n",
    "    if exit_code != 0: raise(F\"Hubo un error en la experimentacion.\")\n",
    "    \n",
    "    return float(tiempo_de_ejecucion);"
   ]
  },
  {
   "cell_type": "markdown",
   "metadata": {},
   "source": [
    "## Corremos los experimentos\n",
    "Vamos a guardar una tabla con las ejecuciones y sus respectivos tiempos."
   ]
  },
  {
   "cell_type": "markdown",
   "metadata": {},
   "source": [
    "## Experimento máximo secuecial"
   ]
  },
  {
   "cell_type": "code",
   "execution_count": null,
   "metadata": {},
   "outputs": [],
   "source": []
  },
  {
   "cell_type": "code",
   "execution_count": 15,
   "metadata": {},
   "outputs": [
    {
     "ename": "ValueError",
     "evalue": "could not convert string to float: \"Error al abrir el archivo '2'\\nError al abrir el archivo '..data/corpus'\\nError al abrir el archivo '..data/corpus'\\nError al abrir el archivo '1'\\n0.0052\\n\"",
     "output_type": "error",
     "traceback": [
      "\u001b[0;31m---------------------------------------------------------------------------\u001b[0m",
      "\u001b[0;31mValueError\u001b[0m                                Traceback (most recent call last)",
      "\u001b[0;32m<ipython-input-15-0f93d7828ddb>\u001b[0m in \u001b[0;36m<module>\u001b[0;34m\u001b[0m\n\u001b[1;32m     12\u001b[0m \u001b[0;32mfor\u001b[0m \u001b[0mt\u001b[0m \u001b[0;32min\u001b[0m \u001b[0mrange\u001b[0m\u001b[0;34m(\u001b[0m\u001b[0;36m0\u001b[0m\u001b[0;34m,\u001b[0m \u001b[0;36m5\u001b[0m\u001b[0;34m)\u001b[0m\u001b[0;34m:\u001b[0m\u001b[0;34m\u001b[0m\u001b[0;34m\u001b[0m\u001b[0m\n\u001b[1;32m     13\u001b[0m     \u001b[0mfilePaths\u001b[0m \u001b[0;34m=\u001b[0m \u001b[0;34m[\u001b[0m\u001b[0;34m\"..data/corpus\"\u001b[0m\u001b[0;34m,\u001b[0m \u001b[0;34m\"..data/corpus\"\u001b[0m\u001b[0;34m]\u001b[0m\u001b[0;34m\u001b[0m\u001b[0;34m\u001b[0m\u001b[0m\n\u001b[0;32m---> 14\u001b[0;31m     \u001b[0manalisis\u001b[0m \u001b[0;34m=\u001b[0m \u001b[0mcorrer_experimento\u001b[0m\u001b[0;34m(\u001b[0m\u001b[0mexperimento\u001b[0m\u001b[0;34m,\u001b[0m \u001b[0mes_secuencial\u001b[0m\u001b[0;34m,\u001b[0m \u001b[0mcantThreadsLectura\u001b[0m\u001b[0;34m,\u001b[0m \u001b[0mcantThreadsMaximo\u001b[0m\u001b[0;34m,\u001b[0m \u001b[0mfilePaths\u001b[0m\u001b[0;34m)\u001b[0m\u001b[0;34m;\u001b[0m\u001b[0;34m\u001b[0m\u001b[0;34m\u001b[0m\u001b[0m\n\u001b[0m\u001b[1;32m     15\u001b[0m     \u001b[0mtiempos\u001b[0m\u001b[0;34m.\u001b[0m\u001b[0mappend\u001b[0m\u001b[0;34m(\u001b[0m\u001b[0manalisis\u001b[0m\u001b[0;34m)\u001b[0m\u001b[0;34m;\u001b[0m\u001b[0;34m\u001b[0m\u001b[0;34m\u001b[0m\u001b[0m\n\u001b[1;32m     16\u001b[0m \u001b[0mclear_output\u001b[0m\u001b[0;34m(\u001b[0m\u001b[0mwait\u001b[0m\u001b[0;34m=\u001b[0m\u001b[0;32mTrue\u001b[0m\u001b[0;34m)\u001b[0m\u001b[0;34m\u001b[0m\u001b[0;34m\u001b[0m\u001b[0m\n",
      "\u001b[0;32m<ipython-input-9-b9bfd1f74050>\u001b[0m in \u001b[0;36mcorrer_experimento\u001b[0;34m(experimento, secuencial, cantThreadsLectura, cantThreadsMaximo, filePaths)\u001b[0m\n\u001b[1;32m     24\u001b[0m     \u001b[0;32mif\u001b[0m \u001b[0mexit_code\u001b[0m \u001b[0;34m!=\u001b[0m \u001b[0;36m0\u001b[0m\u001b[0;34m:\u001b[0m \u001b[0;32mraise\u001b[0m\u001b[0;34m(\u001b[0m\u001b[0;34mF\"Hubo un error en la experimentacion.\"\u001b[0m\u001b[0;34m)\u001b[0m\u001b[0;34m\u001b[0m\u001b[0;34m\u001b[0m\u001b[0m\n\u001b[1;32m     25\u001b[0m \u001b[0;34m\u001b[0m\u001b[0m\n\u001b[0;32m---> 26\u001b[0;31m     \u001b[0;32mreturn\u001b[0m \u001b[0mfloat\u001b[0m\u001b[0;34m(\u001b[0m\u001b[0mtiempo_de_ejecucion\u001b[0m\u001b[0;34m)\u001b[0m\u001b[0;34m;\u001b[0m\u001b[0;34m\u001b[0m\u001b[0;34m\u001b[0m\u001b[0m\n\u001b[0m",
      "\u001b[0;31mValueError\u001b[0m: could not convert string to float: \"Error al abrir el archivo '2'\\nError al abrir el archivo '..data/corpus'\\nError al abrir el archivo '..data/corpus'\\nError al abrir el archivo '1'\\n0.0052\\n\""
     ]
    }
   ],
   "source": [
    "columnas = [\"n\", \"experimento\", \"es_secuencial\", \"cantThreadsLectura\", \"cantThreadsMaximo\", \"tiempo\"];\n",
    "filas = [];\n",
    "\n",
    "n = 1;\n",
    "experimento = \"maximo\";\n",
    "es_secuencial = \"Si\";\n",
    "cantThreadsLectura = 2;\n",
    "cantThreadsMaximo = 1;\n",
    "tiempos = []\n",
    "\n",
    "\n",
    "for t in range(0, 5):\n",
    "    filePaths = [\"data/corpus\", \"data/corpus\"]\n",
    "    analisis = correr_experimento(experimento, es_secuencial, cantThreadsLectura, cantThreadsMaximo, filePaths);\n",
    "    tiempos.append(analisis);\n",
    "clear_output(wait=True)\n",
    "display('Experimento: ' + str(n))\n",
    "n += 1;\n",
    "tiempo = np.median(tiempos);\n",
    "filas.append([n, experimento, es_secuencial, cantThreadsLectura, cantThreadsMaximo, tiempo]);\n",
    "\n",
    "\n",
    "df_resultado = pd.DataFrame(filas, columns=columnas);\n",
    "df_resultado.to_csv(\"../resultados/resultado_maximo_secuencial.csv\", index=False, header=True);\n",
    "\n",
    "\n"
   ]
  },
  {
   "cell_type": "markdown",
   "metadata": {},
   "source": [
    "## Experimento máximo concurrente"
   ]
  },
  {
   "cell_type": "code",
   "execution_count": 10,
   "metadata": {},
   "outputs": [
    {
     "data": {
      "text/plain": [
       "'Experimento: 26'"
      ]
     },
     "metadata": {},
     "output_type": "display_data"
    }
   ],
   "source": [
    "columnas = [\"n\", \"experimento\", \"es_secuencial\", \"cantThreadsLectura\", \"cantThreadsMaximo\", \"tiempo\"];\n",
    "filas = [];\n",
    "\n",
    "n = 1;\n",
    "experimento = \"maximo\";\n",
    "es_secuencial = \"No\";\n",
    "cantThreadsLectura = 2;\n",
    "tiempos = []\n",
    "for cantThreadsMaximo in range(1,27):\n",
    "    for t in range(0, 5):\n",
    "        filePaths = [\"../data/corpus\", \"../data/corpus\"]\n",
    "        analisis = correr_experimento(experimento, es_secuencial, cantThreadsLectura, cantThreadsMaximo, filePaths);\n",
    "        tiempos.append(analisis);\n",
    "    clear_output(wait=True)\n",
    "    display('Experimento: ' + str(n))\n",
    "    n += 1;\n",
    "    tiempo = np.median(tiempos);\n",
    "    filas.append([n, experimento, es_secuencial, cantThreadsLectura, cantThreadsMaximo, tiempo]);\n",
    "\n",
    "\n",
    "df_resultado = pd.DataFrame(filas, columns=columnas);\n",
    "df_resultado.to_csv(\"../resultados/resultado_maximo_concurrente.csv\", index=False, header=True);"
   ]
  },
  {
   "cell_type": "markdown",
   "metadata": {},
   "source": [
    "## Experimento cargar archivos secuencial"
   ]
  },
  {
   "cell_type": "code",
   "execution_count": 11,
   "metadata": {},
   "outputs": [
    {
     "data": {
      "text/plain": [
       "'Experimento: 1'"
      ]
     },
     "metadata": {},
     "output_type": "display_data"
    }
   ],
   "source": [
    "columnas = [\"n\", \"experimento\", \"es_secuencial\", \"cantThreadsLectura\", \"cantThreadsMaximo\", \"tiempo\"];\n",
    "filas = [];\n",
    "\n",
    "n = 1;\n",
    "experimento = \"cargarArchivos\";\n",
    "es_secuencial = \"Si\";\n",
    "cantThreadsLectura = 1;\n",
    "cantThreadsMaximo = 1;\n",
    "tiempos = []\n",
    "filePaths = [\"../data/corpus\"]\n",
    "for f in range(1,30):\n",
    "    filePaths.append(\"../data/corpus\")\n",
    "\n",
    "for t in range(0, 5):\n",
    "    analisis = correr_experimento(experimento, es_secuencial, cantThreadsLectura, cantThreadsMaximo, filePaths);\n",
    "    tiempos.append(analisis);\n",
    "clear_output(wait=True)\n",
    "display('Experimento: ' + str(n))\n",
    "n += 1;\n",
    "tiempo = np.median(tiempos);\n",
    "filas.append([n, experimento, es_secuencial, cantThreadsLectura, cantThreadsMaximo, tiempo]);\n",
    "\n",
    "\n",
    "df_resultado = pd.DataFrame(filas, columns=columnas);\n",
    "df_resultado.to_csv(\"../resultados/resultado_cargarArchivo_secuencial.csv\", index=False, header=True);"
   ]
  },
  {
   "cell_type": "markdown",
   "metadata": {},
   "source": [
    "## Experimento cargar archivos concurrente"
   ]
  },
  {
   "cell_type": "code",
   "execution_count": 12,
   "metadata": {},
   "outputs": [
    {
     "data": {
      "text/plain": [
       "'Experimento: 30'"
      ]
     },
     "metadata": {},
     "output_type": "display_data"
    }
   ],
   "source": [
    "columnas = [\"n\", \"experimento\", \"es_secuencial\", \"cantThreadsLectura\", \"cantThreadsMaximo\", \"tiempo\"];\n",
    "filas = [];\n",
    "\n",
    "n = 1;\n",
    "experimento = \"cargarArchivos\";\n",
    "es_secuencial = \"No\";\n",
    "cantThreadsMaximo = 1;\n",
    "tiempos = []\n",
    "filePaths = [\"../data/corpus\"]\n",
    "for f in range(1,30):\n",
    "    filePaths.append(\"../data/corpus\")\n",
    "\n",
    "for cantThreadsLectura in range(1,31):\n",
    "    for t in range(0, 5):\n",
    "        filePaths = [\"../data/corpus\", \"../data/corpus\"]\n",
    "        analisis = correr_experimento(experimento, es_secuencial, cantThreadsLectura, cantThreadsMaximo, filePaths);\n",
    "        tiempos.append(analisis);\n",
    "    clear_output(wait=True)\n",
    "    display('Experimento: ' + str(n))\n",
    "    n += 1;\n",
    "    tiempo = np.median(tiempos);\n",
    "    filas.append([n, experimento, es_secuencial, cantThreadsLectura, cantThreadsMaximo, tiempo]);\n",
    "\n",
    "\n",
    "df_resultado = pd.DataFrame(filas, columns=columnas);\n",
    "df_resultado.to_csv(\"../resultados/resultado_cargarArchivo_concurrente.csv\", index=False, header=True);"
   ]
  }
 ],
 "metadata": {
  "kernelspec": {
   "display_name": "Python 3",
   "language": "python",
   "name": "python3"
  },
  "language_info": {
   "codemirror_mode": {
    "name": "ipython",
    "version": 3
   },
   "file_extension": ".py",
   "mimetype": "text/x-python",
   "name": "python",
   "nbconvert_exporter": "python",
   "pygments_lexer": "ipython3",
   "version": "3.8.2"
  },
  "metadata": {
   "interpreter": {
    "hash": "31f2aee4e71d21fbe5cf8b01ff0e069b9275f58929596ceb00d14d90e3e16cd6"
   }
  }
 },
 "nbformat": 4,
 "nbformat_minor": 4
}
