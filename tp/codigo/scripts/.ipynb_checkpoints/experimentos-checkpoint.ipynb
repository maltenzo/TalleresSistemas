{
 "cells": [
  {
   "cell_type": "markdown",
   "metadata": {},
   "source": [
    "# Correr experimentos\n",
    "En este archivo está el código para correr los experimentos y escribir los resultados en archivos CSV.\n",
    "> Los archivos se guardan en la carpeta _resultados_."
   ]
  },
  {
   "cell_type": "code",
   "execution_count": 8,
   "metadata": {},
   "outputs": [],
   "source": [
    "import math, subprocess\n",
    "import pandas as pd\n",
    "import numpy as np\n",
    "from IPython.display import display, clear_output\n",
    "from os import listdir"
   ]
  },
  {
   "cell_type": "markdown",
   "metadata": {},
   "source": [
    "La siguiente función sirve para correr el código sobre una instancia ejecutando un método en particular.\n"
   ]
  },
  {
   "cell_type": "code",
   "execution_count": 9,
   "metadata": {},
   "outputs": [],
   "source": [
    "def correr_experimento(experimento, secuencial, cantThreadsLectura, cantThreadsMaximo, filePaths):\n",
    "\n",
    "    # Crear proceso para ejecutar el codigo\n",
    "    args = [\"../build/Experimentos\", experimento, secuencial, str(cantThreadsLectura), str(cantThreadsMaximo)]\n",
    "\n",
    "    for path in filePaths:\n",
    "        args.append(path)\n",
    "        \n",
    "    process = subprocess.Popen(args, stderr=subprocess.PIPE,stdout=subprocess.PIPE, stdin=subprocess.PIPE, universal_newlines = True)\n",
    "\n",
    "    # Poner la instancia en la entrada estandar y leer salida de STDERR con el tiempo de ejecución.\n",
    "    clog = process.communicate()[1] # communicate() devuelve una tupla (stdout, stderr)\n",
    "    \n",
    "    #clog = str.splitlines(clog)\n",
    "\n",
    "    #print(clog)\n",
    "\n",
    "    tiempo_de_ejecucion = clog\n",
    "\n",
    "    # Correr experimento.\n",
    "    exit_code = process.wait()\n",
    "\n",
    "    # Verificar que el proceso no fallo.\n",
    "    if exit_code != 0: raise(F\"Hubo un error en la experimentacion.\")\n",
    "    \n",
    "    return float(tiempo_de_ejecucion);"
   ]
  },
  {
   "cell_type": "markdown",
   "metadata": {},
   "source": [
    "## Corremos los experimentos\n",
    "Vamos a guardar una tabla con las ejecuciones y sus respectivos tiempos."
   ]
  },
  {
   "cell_type": "code",
   "execution_count": 10,
   "metadata": {},
   "outputs": [],
   "source": [
    "file = open(\"../data/miDiccionario\", \"w\")\n",
    "abecedario = \"abcdefghijklmnopqrstuvwxyz\"\n",
    "\n",
    "for letra in abecedario:\n",
    "    s = \"\"\n",
    "    l = []\n",
    "    for i in range(0, 2000):\n",
    "        s+=letra\n",
    "        l.append(s)\n",
    "    l.reverse()\n",
    "    for st in l:\n",
    "        file.write(st+\"\\n\")\n",
    "file.write(\"a\"+\"\\n\")    \n",
    "file.close()"
   ]
  },
  {
   "cell_type": "markdown",
   "metadata": {},
   "source": [
    "## Experimento máximo secuecial"
   ]
  },
  {
   "cell_type": "code",
   "execution_count": 11,
   "metadata": {},
   "outputs": [
    {
     "data": {
      "text/plain": [
       "'Experimento: 1'"
      ]
     },
     "metadata": {},
     "output_type": "display_data"
    }
   ],
   "source": [
    "columnas = [\"n\", \"experimento\", \"es_secuencial\", \"cantThreadsLectura\", \"cantThreadsMaximo\", \"tiempo\"];\n",
    "filas = [];\n",
    "\n",
    "n = 1;\n",
    "experimento = \"maximo\";\n",
    "es_secuencial = \"Si\";\n",
    "cantThreadsLectura = 1;\n",
    "cantThreadsMaximo = 1;\n",
    "tiempos = []\n",
    "\n",
    "\n",
    "for t in range(0, 5):\n",
    "    filePaths = [\"../data/miDiccionario\"]\n",
    "    analisis = correr_experimento(experimento, es_secuencial, cantThreadsLectura, cantThreadsMaximo, filePaths);\n",
    "    tiempos.append(analisis);\n",
    "clear_output(wait=True)\n",
    "display('Experimento: ' + str(n))\n",
    "n += 1;\n",
    "tiempo = np.median(tiempos);\n",
    "filas.append([n, experimento, es_secuencial, cantThreadsLectura, cantThreadsMaximo, tiempo]);\n",
    "\n",
    "\n",
    "df_resultado = pd.DataFrame(filas, columns=columnas);\n",
    "df_resultado.to_csv(\"../resultados/resultado_maximo_secuencial.csv\", index=False, header=True);\n",
    "\n",
    "\n"
   ]
  },
  {
   "cell_type": "markdown",
   "metadata": {},
   "source": [
    "## Experimento máximo concurrente"
   ]
  },
  {
   "cell_type": "code",
   "execution_count": 12,
   "metadata": {},
   "outputs": [
    {
     "data": {
      "text/plain": [
       "'Experimento: 26'"
      ]
     },
     "metadata": {},
     "output_type": "display_data"
    }
   ],
   "source": [
    "columnas = [\"n\", \"experimento\", \"es_secuencial\", \"cantThreadsLectura\", \"cantThreadsMaximo\", \"tiempo\"];\n",
    "filas = [];\n",
    "\n",
    "n = 1;\n",
    "experimento = \"maximo\";\n",
    "es_secuencial = \"No\";\n",
    "cantThreadsLectura = 1;\n",
    "tiempos = []\n",
    "for cantThreadsMaximo in range(1,27):\n",
    "    for t in range(0, 5):\n",
    "        filePaths = [\"../data/miDiccionario\"]\n",
    "        analisis = correr_experimento(experimento, es_secuencial, cantThreadsLectura, cantThreadsMaximo, filePaths);\n",
    "        tiempos.append(analisis);\n",
    "    clear_output(wait=True)\n",
    "    display('Experimento: ' + str(n))\n",
    "    n += 1;\n",
    "    tiempo = np.median(tiempos);\n",
    "    filas.append([n, experimento, es_secuencial, cantThreadsLectura, cantThreadsMaximo, tiempo]);\n",
    "\n",
    "\n",
    "df_resultado = pd.DataFrame(filas, columns=columnas);\n",
    "df_resultado.to_csv(\"../resultados/resultado_maximo_concurrente.csv\", index=False, header=True);"
   ]
  },
  {
   "cell_type": "markdown",
   "metadata": {},
   "source": [
    "## Experimento cargar archivos secuencial"
   ]
  },
  {
   "cell_type": "code",
   "execution_count": 5,
   "metadata": {},
   "outputs": [
    {
     "data": {
      "text/plain": [
       "'Experimento: 1'"
      ]
     },
     "metadata": {},
     "output_type": "display_data"
    }
   ],
   "source": [
    "columnas = [\"n\", \"experimento\", \"es_secuencial\", \"cantThreadsLectura\", \"cantThreadsMaximo\", \"tiempo\"];\n",
    "filas = [];\n",
    "\n",
    "n = 1;\n",
    "experimento = \"cargarArchivos\";\n",
    "es_secuencial = \"Si\";\n",
    "cantThreadsLectura = 1;\n",
    "cantThreadsMaximo = 1;\n",
    "tiempos = []\n",
    "filePaths = [\"../data/corpus\"]\n",
    "for f in range(1,30):\n",
    "    filePaths.append(\"../data/corpus\")\n",
    "\n",
    "for t in range(0, 5):\n",
    "    analisis = correr_experimento(experimento, es_secuencial, cantThreadsLectura, cantThreadsMaximo, filePaths);\n",
    "    tiempos.append(analisis);\n",
    "clear_output(wait=True)\n",
    "display('Experimento: ' + str(n))\n",
    "n += 1;\n",
    "tiempo = np.median(tiempos);\n",
    "filas.append([n, experimento, es_secuencial, cantThreadsLectura, cantThreadsMaximo, tiempo]);\n",
    "\n",
    "\n",
    "df_resultado = pd.DataFrame(filas, columns=columnas);\n",
    "df_resultado.to_csv(\"../resultados/resultado_cargarArchivo_secuencial.csv\", index=False, header=True);"
   ]
  },
  {
   "cell_type": "markdown",
   "metadata": {},
   "source": [
    "## Experimento cargar archivos concurrente"
   ]
  },
  {
   "cell_type": "code",
   "execution_count": 6,
   "metadata": {},
   "outputs": [
    {
     "data": {
      "text/plain": [
       "'Experimento: 30'"
      ]
     },
     "metadata": {},
     "output_type": "display_data"
    }
   ],
   "source": [
    "columnas = [\"n\", \"experimento\", \"es_secuencial\", \"cantThreadsLectura\", \"cantThreadsMaximo\", \"tiempo\"];\n",
    "filas = [];\n",
    "\n",
    "n = 1;\n",
    "experimento = \"cargarArchivos\";\n",
    "es_secuencial = \"No\";\n",
    "cantThreadsMaximo = 1;\n",
    "tiempos = []\n",
    "filePaths = [\"../data/corpus\"]\n",
    "for f in range(1,30):\n",
    "    filePaths.append(\"../data/corpus\")\n",
    "\n",
    "for cantThreadsLectura in range(1,31):\n",
    "    for t in range(0, 5):\n",
    "        analisis = correr_experimento(experimento, es_secuencial, cantThreadsLectura, cantThreadsMaximo, filePaths);\n",
    "        tiempos.append(analisis);\n",
    "    clear_output(wait=True)\n",
    "    display('Experimento: ' + str(n))\n",
    "    n += 1;\n",
    "    tiempo = np.median(tiempos);\n",
    "    filas.append([n, experimento, es_secuencial, cantThreadsLectura, cantThreadsMaximo, tiempo]);\n",
    "\n",
    "\n",
    "df_resultado = pd.DataFrame(filas, columns=columnas);\n",
    "df_resultado.to_csv(\"../resultados/resultado_cargarArchivo_concurrente.csv\", index=False, header=True);"
   ]
  }
 ],
 "metadata": {
  "kernelspec": {
   "display_name": "Python 3",
   "language": "python",
   "name": "python3"
  },
  "language_info": {
   "codemirror_mode": {
    "name": "ipython",
    "version": 3
   },
   "file_extension": ".py",
   "mimetype": "text/x-python",
   "name": "python",
   "nbconvert_exporter": "python",
   "pygments_lexer": "ipython3",
   "version": "3.8.2"
  },
  "metadata": {
   "interpreter": {
    "hash": "31f2aee4e71d21fbe5cf8b01ff0e069b9275f58929596ceb00d14d90e3e16cd6"
   }
  }
 },
 "nbformat": 4,
 "nbformat_minor": 4
}
